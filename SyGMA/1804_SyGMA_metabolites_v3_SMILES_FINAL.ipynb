{
 "cells": [
  {
   "cell_type": "markdown",
   "metadata": {
    "collapsed": true
   },
   "source": [
    "# SyGMA processing for metabolites\n",
    "\n",
    "Info: Jupyter notebook originally made by Louis-Felix Nothias and Anupriya Tripathi (UC San Diego) on April 2018\n",
    "\n",
    "Description: Process a list of structures (SMILES) and generate Phase I and II metabolites"
   ]
  },
  {
   "cell_type": "code",
   "execution_count": 1,
   "metadata": {},
   "outputs": [],
   "source": [
    "import pandas as pd\n",
    "import numpy as np\n",
    "import sygma\n",
    "from rdkit import Chem"
   ]
  },
  {
   "cell_type": "markdown",
   "metadata": {},
   "source": [
    "## Running SyGMa\n",
    "\n",
    "Each step in a scenario lists the ruleset\n",
    "and the number of reaction cycles to be applied"
   ]
  },
  {
   "cell_type": "code",
   "execution_count": 2,
   "metadata": {},
   "outputs": [],
   "source": [
    "# Define SyGMA scenario. \n",
    "scenario = sygma.Scenario([\n",
    "    [sygma.ruleset['phase1'], 3],\n",
    "    [sygma.ruleset['phase2'], 2]])"
   ]
  },
  {
   "cell_type": "code",
   "execution_count": 3,
   "metadata": {},
   "outputs": [],
   "source": [
    "parent = Chem.MolFromSmiles(\"CCCc1nn(C)c2c1nc([nH]c2=O)-c1cc(ccc1OCC)S(=O)(=O)N1CCN(C)CC1\")"
   ]
  },
  {
   "cell_type": "code",
   "execution_count": 4,
   "metadata": {},
   "outputs": [],
   "source": [
    "metabolic_tree = scenario.run(parent)\n",
    "metabolic_tree.calc_scores()"
   ]
  },
  {
   "cell_type": "code",
   "execution_count": 5,
   "metadata": {},
   "outputs": [],
   "source": [
    "metabolite_list = metabolic_tree.to_list()"
   ]
  },
  {
   "cell_type": "code",
   "execution_count": 6,
   "metadata": {
    "scrolled": true
   },
   "outputs": [],
   "source": [
    "df = pd.DataFrame(data=None)\n",
    "df2 = pd.DataFrame(data=None)\n",
    "metabolic_tree = scenario.run(parent)\n",
    "metabolic_tree.calc_scores()\n",
    "metabolites = metabolic_tree.to_smiles()\n",
    "df = pd.DataFrame(metabolites[1:],columns=metabolites[0])\n",
    "df['parent'] = (metabolites[0][0])\n",
    "df.columns.values[0] = 'metabolite'\n",
    "df.columns.values[1] = 'score'"
   ]
  },
  {
   "cell_type": "code",
   "execution_count": 9,
   "metadata": {},
   "outputs": [
    {
     "data": {
      "text/html": [
       "<div>\n",
       "<style scoped>\n",
       "    .dataframe tbody tr th:only-of-type {\n",
       "        vertical-align: middle;\n",
       "    }\n",
       "\n",
       "    .dataframe tbody tr th {\n",
       "        vertical-align: top;\n",
       "    }\n",
       "\n",
       "    .dataframe thead th {\n",
       "        text-align: right;\n",
       "    }\n",
       "</style>\n",
       "<table border=\"1\" class=\"dataframe\">\n",
       "  <thead>\n",
       "    <tr style=\"text-align: right;\">\n",
       "      <th></th>\n",
       "      <th>metabolite</th>\n",
       "      <th>score</th>\n",
       "      <th>parent</th>\n",
       "    </tr>\n",
       "  </thead>\n",
       "  <tbody>\n",
       "    <tr>\n",
       "      <th>0</th>\n",
       "      <td>CCCc1nn(C)c2c(=O)[nH]c(-c3cc(S(=O)(=O)N4CCNCC4...</td>\n",
       "      <td>4.180000e-01</td>\n",
       "      <td>CCCc1nn(C)c2c(=O)[nH]c(-c3cc(S(=O)(=O)N4CCN(C)...</td>\n",
       "    </tr>\n",
       "    <tr>\n",
       "      <th>1</th>\n",
       "      <td>CCCc1n[nH]c2c(=O)[nH]c(-c3cc(S(=O)(=O)N4CCN(C)...</td>\n",
       "      <td>2.530000e-01</td>\n",
       "      <td>CCCc1nn(C)c2c(=O)[nH]c(-c3cc(S(=O)(=O)N4CCN(C)...</td>\n",
       "    </tr>\n",
       "    <tr>\n",
       "      <th>2</th>\n",
       "      <td>CCCc1nn(C)c2c(=O)[nH]c(-c3cc(S(=O)(=O)N4CC[N+]...</td>\n",
       "      <td>1.900000e-01</td>\n",
       "      <td>CCCc1nn(C)c2c(=O)[nH]c(-c3cc(S(=O)(=O)N4CCN(C)...</td>\n",
       "    </tr>\n",
       "    <tr>\n",
       "      <th>3</th>\n",
       "      <td>CCOc1ccc(S(=O)(=O)N2CCN(C)CC2)cc1-c1nc2c(CC(C)...</td>\n",
       "      <td>1.060000e-01</td>\n",
       "      <td>CCCc1nn(C)c2c(=O)[nH]c(-c3cc(S(=O)(=O)N4CCN(C)...</td>\n",
       "    </tr>\n",
       "    <tr>\n",
       "      <th>4</th>\n",
       "      <td>CCCc1n[nH]c2c(=O)[nH]c(-c3cc(S(=O)(=O)N4CCNCC4...</td>\n",
       "      <td>1.057540e-01</td>\n",
       "      <td>CCCc1nn(C)c2c(=O)[nH]c(-c3cc(S(=O)(=O)N4CCN(C)...</td>\n",
       "    </tr>\n",
       "    <tr>\n",
       "      <th>...</th>\n",
       "      <td>...</td>\n",
       "      <td>...</td>\n",
       "      <td>...</td>\n",
       "    </tr>\n",
       "    <tr>\n",
       "      <th>32386</th>\n",
       "      <td>CCOc1ccc(S(=O)(=O)N2CCN(C)CC2)cc1-c1n(C2OC(C(=...</td>\n",
       "      <td>2.318400e-09</td>\n",
       "      <td>CCCc1nn(C)c2c(=O)[nH]c(-c3cc(S(=O)(=O)N4CCN(C)...</td>\n",
       "    </tr>\n",
       "    <tr>\n",
       "      <th>32387</th>\n",
       "      <td>CCOc1c(O)cc(S(=O)(=O)N2CCN(C)CC2)cc1-c1[nH]c(=...</td>\n",
       "      <td>2.257920e-09</td>\n",
       "      <td>CCCc1nn(C)c2c(=O)[nH]c(-c3cc(S(=O)(=O)N4CCN(C)...</td>\n",
       "    </tr>\n",
       "    <tr>\n",
       "      <th>32388</th>\n",
       "      <td>CCOc1ccc(S(=O)(=O)N2CCN(C)CC2)cc1-c1nc2c(CCOS(...</td>\n",
       "      <td>2.086560e-09</td>\n",
       "      <td>CCCc1nn(C)c2c(=O)[nH]c(-c3cc(S(=O)(=O)N4CCN(C)...</td>\n",
       "    </tr>\n",
       "    <tr>\n",
       "      <th>32389</th>\n",
       "      <td>CCOc1ccc(S(=O)(=O)N2CCN(C)CC2)cc1-c1[nH]c(=O)c...</td>\n",
       "      <td>2.086560e-09</td>\n",
       "      <td>CCCc1nn(C)c2c(=O)[nH]c(-c3cc(S(=O)(=O)N4CCN(C)...</td>\n",
       "    </tr>\n",
       "    <tr>\n",
       "      <th>32390</th>\n",
       "      <td>CCOc1ccc(S(=O)(=O)N2CCN(C)CC2)cc1-c1[nH]c(=O)c...</td>\n",
       "      <td>1.622880e-09</td>\n",
       "      <td>CCCc1nn(C)c2c(=O)[nH]c(-c3cc(S(=O)(=O)N4CCN(C)...</td>\n",
       "    </tr>\n",
       "  </tbody>\n",
       "</table>\n",
       "<p>32391 rows × 3 columns</p>\n",
       "</div>"
      ],
      "text/plain": [
       "                                              metabolite         score  \\\n",
       "0      CCCc1nn(C)c2c(=O)[nH]c(-c3cc(S(=O)(=O)N4CCNCC4...  4.180000e-01   \n",
       "1      CCCc1n[nH]c2c(=O)[nH]c(-c3cc(S(=O)(=O)N4CCN(C)...  2.530000e-01   \n",
       "2      CCCc1nn(C)c2c(=O)[nH]c(-c3cc(S(=O)(=O)N4CC[N+]...  1.900000e-01   \n",
       "3      CCOc1ccc(S(=O)(=O)N2CCN(C)CC2)cc1-c1nc2c(CC(C)...  1.060000e-01   \n",
       "4      CCCc1n[nH]c2c(=O)[nH]c(-c3cc(S(=O)(=O)N4CCNCC4...  1.057540e-01   \n",
       "...                                                  ...           ...   \n",
       "32386  CCOc1ccc(S(=O)(=O)N2CCN(C)CC2)cc1-c1n(C2OC(C(=...  2.318400e-09   \n",
       "32387  CCOc1c(O)cc(S(=O)(=O)N2CCN(C)CC2)cc1-c1[nH]c(=...  2.257920e-09   \n",
       "32388  CCOc1ccc(S(=O)(=O)N2CCN(C)CC2)cc1-c1nc2c(CCOS(...  2.086560e-09   \n",
       "32389  CCOc1ccc(S(=O)(=O)N2CCN(C)CC2)cc1-c1[nH]c(=O)c...  2.086560e-09   \n",
       "32390  CCOc1ccc(S(=O)(=O)N2CCN(C)CC2)cc1-c1[nH]c(=O)c...  1.622880e-09   \n",
       "\n",
       "                                                  parent  \n",
       "0      CCCc1nn(C)c2c(=O)[nH]c(-c3cc(S(=O)(=O)N4CCN(C)...  \n",
       "1      CCCc1nn(C)c2c(=O)[nH]c(-c3cc(S(=O)(=O)N4CCN(C)...  \n",
       "2      CCCc1nn(C)c2c(=O)[nH]c(-c3cc(S(=O)(=O)N4CCN(C)...  \n",
       "3      CCCc1nn(C)c2c(=O)[nH]c(-c3cc(S(=O)(=O)N4CCN(C)...  \n",
       "4      CCCc1nn(C)c2c(=O)[nH]c(-c3cc(S(=O)(=O)N4CCN(C)...  \n",
       "...                                                  ...  \n",
       "32386  CCCc1nn(C)c2c(=O)[nH]c(-c3cc(S(=O)(=O)N4CCN(C)...  \n",
       "32387  CCCc1nn(C)c2c(=O)[nH]c(-c3cc(S(=O)(=O)N4CCN(C)...  \n",
       "32388  CCCc1nn(C)c2c(=O)[nH]c(-c3cc(S(=O)(=O)N4CCN(C)...  \n",
       "32389  CCCc1nn(C)c2c(=O)[nH]c(-c3cc(S(=O)(=O)N4CCN(C)...  \n",
       "32390  CCCc1nn(C)c2c(=O)[nH]c(-c3cc(S(=O)(=O)N4CCN(C)...  \n",
       "\n",
       "[32391 rows x 3 columns]"
      ]
     },
     "execution_count": 9,
     "metadata": {},
     "output_type": "execute_result"
    }
   ],
   "source": [
    "df"
   ]
  },
  {
   "cell_type": "code",
   "execution_count": 8,
   "metadata": {},
   "outputs": [],
   "source": [
    "#Write the file out\n",
    "df.to_csv('Sildenafil_Sygma_3_2_metabolites.tsv', sep = '\\t', index = False)"
   ]
  },
  {
   "cell_type": "code",
   "execution_count": null,
   "metadata": {
    "collapsed": true
   },
   "outputs": [],
   "source": []
  }
 ],
 "metadata": {
  "kernelspec": {
   "display_name": "Python 3",
   "language": "python",
   "name": "python3"
  },
  "language_info": {
   "codemirror_mode": {
    "name": "ipython",
    "version": 3
   },
   "file_extension": ".py",
   "mimetype": "text/x-python",
   "name": "python",
   "nbconvert_exporter": "python",
   "pygments_lexer": "ipython3",
   "version": "3.6.8"
  }
 },
 "nbformat": 4,
 "nbformat_minor": 2
}
