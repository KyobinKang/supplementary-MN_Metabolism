{
 "cells": [
  {
   "cell_type": "code",
   "execution_count": 40,
   "id": "a1a24dc1-71ff-4171-b1ad-856a0c84508b",
   "metadata": {},
   "outputs": [],
   "source": [
    "# Read the file in a folder named 'clusterinfo_summary'.\n",
    "GNPS <- read.table(\"9eac5bfc89fd42f8900b993dc4c33711.tsv\",sep=\"\\t\",header = T,comment.char = \"\",stringsAsFactors = F,quote=\"\") "
   ]
  },
  {
   "cell_type": "code",
   "execution_count": 41,
   "id": "5dcf1f14-17f5-44ce-bb84-df20df774447",
   "metadata": {},
   "outputs": [],
   "source": [
    "# Read the file in a folder named 'quantification_table_reformatted'.\n",
    "FeatureTable <- read.csv(\"6a009592d44b47eab75040283ee09d98.csv\")"
   ]
  },
  {
   "cell_type": "code",
   "execution_count": 42,
   "id": "27fd0ae1-def4-4306-adb3-f2a574446b76",
   "metadata": {},
   "outputs": [],
   "source": [
    "FeatureTable <- FeatureTable[1:(length(FeatureTable)-1)]"
   ]
  },
  {
   "cell_type": "code",
   "execution_count": 43,
   "id": "a791d6e2-4860-41d4-8612-2aaa360e155b",
   "metadata": {},
   "outputs": [],
   "source": [
    "FeatureTable$ci <- GNPS$componentindex"
   ]
  },
  {
   "cell_type": "code",
   "execution_count": 44,
   "id": "8528a533-9ba2-4e5d-80b6-f68a58c7f199",
   "metadata": {},
   "outputs": [],
   "source": [
    "#Put the component index of the molecular network cluster where the parent drug node was observed after 'ci == '.\n",
    "FilteredTable <- subset(FeatureTable, subset = ci == 2)"
   ]
  },
  {
   "cell_type": "code",
   "execution_count": 45,
   "id": "40624a83-0bb0-406a-b1bf-7e65885219f8",
   "metadata": {},
   "outputs": [],
   "source": [
    "FilteredTable$ci <- NULL"
   ]
  },
  {
   "cell_type": "code",
   "execution_count": 46,
   "id": "c5862e4d-964a-4688-be12-a81ba3fa87cf",
   "metadata": {},
   "outputs": [],
   "source": [
    "write.table(FilteredTable,\"Filtered_Quant_Table.csv\",sep=\",\",row.names = T,quote = F)"
   ]
  },
  {
   "cell_type": "code",
   "execution_count": null,
   "id": "0ff0274f-c9ea-4122-93d2-06f6126787f7",
   "metadata": {},
   "outputs": [],
   "source": []
  }
 ],
 "metadata": {
  "kernelspec": {
   "display_name": "R",
   "language": "R",
   "name": "ir"
  },
  "language_info": {
   "codemirror_mode": "r",
   "file_extension": ".r",
   "mimetype": "text/x-r-source",
   "name": "R",
   "pygments_lexer": "r",
   "version": "4.1.3"
  }
 },
 "nbformat": 4,
 "nbformat_minor": 5
}
