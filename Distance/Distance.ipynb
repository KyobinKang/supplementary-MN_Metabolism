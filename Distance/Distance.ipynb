{
 "cells": [
  {
   "cell_type": "markdown",
   "metadata": {},
   "source": [
    "# PCoA (Bray-Curtis) with metabolite ions only\n",
    "\n",
    "Info: Jupyter notebook originally made by Kyo Bin Kang on May 2020\n",
    "\n",
    "Description: Filter out a MS feature table to leave spectral node members of a certain molecular family, then calculate Bray-Curtis distances and visualize it as a PCoA plot."
   ]
  },
  {
   "cell_type": "code",
   "execution_count": 1,
   "metadata": {},
   "outputs": [
    {
     "name": "stderr",
     "output_type": "stream",
     "text": [
      "\n",
      "---------------------\n",
      "Welcome to dendextend version 1.5.2\n",
      "Type citation('dendextend') for how to cite the package.\n",
      "\n",
      "Type browseVignettes(package = 'dendextend') for the package vignette.\n",
      "The github page is: https://github.com/talgalili/dendextend/\n",
      "\n",
      "Suggestions and bug-reports can be submitted at: https://github.com/talgalili/dendextend/issues\n",
      "Or contact: <tal.galili@gmail.com>\n",
      "\n",
      "\tTo suppress this message use:  suppressPackageStartupMessages(library(dendextend))\n",
      "---------------------\n",
      "\n",
      "\n",
      "Attaching package: 'dendextend'\n",
      "\n",
      "The following object is masked from 'package:stats':\n",
      "\n",
      "    cutree\n",
      "\n",
      "Loading required package: permute\n",
      "\n",
      "Attaching package: 'permute'\n",
      "\n",
      "The following object is masked from 'package:dendextend':\n",
      "\n",
      "    shuffle\n",
      "\n",
      "Loading required package: lattice\n",
      "This is vegan 2.4-4\n",
      "\n",
      "Attaching package: 'ape'\n",
      "\n",
      "The following objects are masked from 'package:dendextend':\n",
      "\n",
      "    ladderize, rotate\n",
      "\n"
     ]
    }
   ],
   "source": [
    "library(stringr)\n",
    "library(dendextend)\n",
    "library(ggplot2)\n",
    "library(vegan)\n",
    "library(ape)"
   ]
  },
  {
   "cell_type": "code",
   "execution_count": 2,
   "metadata": {},
   "outputs": [],
   "source": [
    "## Import GNPS data - the interspecific dataset\n",
    "My.features <- read.table(\"exclude_error_210217_quant.csv\", sep = \",\", row.names = 1, header=T, comment.char=\"\")\n",
    "GNPS.features <- read.csv(\"fe07cca48e764d9290bd59587d847b3c.tsv\", sep = '\\t', header=T, stringsAsFactors = F) #Retreived from clusterinfor_summary folder of the GNPS result file\n",
    "Meta.Inf <- read.table(\"Sildenafil_metabolism_metadata_batch.txt\", sep = \"\\t\", header=T)\n",
    "My.features <- subset(My.features, select= -c(row.m.z, row.retention.time,X))\n",
    "colnames(My.features) <- str_replace_all(colnames(My.features), '.Peak.area','')"
   ]
  },
  {
   "cell_type": "code",
   "execution_count": 3,
   "metadata": {},
   "outputs": [
    {
     "data": {
      "text/html": [
       "415"
      ],
      "text/latex": [
       "415"
      ],
      "text/markdown": [
       "415"
      ],
      "text/plain": [
       "[1] 415"
      ]
     },
     "metadata": {},
     "output_type": "display_data"
    }
   ],
   "source": [
    "My.features <- cbind(My.features,GNPS.features$componentindex)\n",
    "names(My.features)[names(My.features) == \"GNPS.features$componentindex\"] <- c(\"component.index\")\n",
    "nrow(My.features)"
   ]
  },
  {
   "cell_type": "code",
   "execution_count": 4,
   "metadata": {},
   "outputs": [
    {
     "data": {
      "text/html": [
       "<table>\n",
       "<thead><tr><th></th><th scope=col>precursor.mass</th><th scope=col>RTMean</th><th scope=col>componentindex</th><th scope=col>LibraryID</th></tr></thead>\n",
       "<tbody>\n",
       "\t<tr><th scope=row>2</th><td>475.2161         </td><td>17.2880          </td><td>1                </td><td>SildenafilCitrate</td></tr>\n",
       "\t<tr><th scope=row>12</th><td>949.4202         </td><td>17.2577          </td><td>6                </td><td>SildenafilCitrate</td></tr>\n",
       "\t<tr><th scope=row>51</th><td>971.4027         </td><td>17.2848          </td><td>6                </td><td>SildenafilCitrate</td></tr>\n",
       "</tbody>\n",
       "</table>\n"
      ],
      "text/latex": [
       "\\begin{tabular}{r|llll}\n",
       "  & precursor.mass & RTMean & componentindex & LibraryID\\\\\n",
       "\\hline\n",
       "\t2 & 475.2161          & 17.2880           & 1                 & SildenafilCitrate\\\\\n",
       "\t12 & 949.4202          & 17.2577           & 6                 & SildenafilCitrate\\\\\n",
       "\t51 & 971.4027          & 17.2848           & 6                 & SildenafilCitrate\\\\\n",
       "\\end{tabular}\n"
      ],
      "text/markdown": [
       "\n",
       "| <!--/--> | precursor.mass | RTMean | componentindex | LibraryID | \n",
       "|---|---|---|\n",
       "| 2 | 475.2161          | 17.2880           | 1                 | SildenafilCitrate | \n",
       "| 12 | 949.4202          | 17.2577           | 6                 | SildenafilCitrate | \n",
       "| 51 | 971.4027          | 17.2848           | 6                 | SildenafilCitrate | \n",
       "\n",
       "\n"
      ],
      "text/plain": [
       "   precursor.mass RTMean  componentindex LibraryID        \n",
       "2  475.2161       17.2880 1              SildenafilCitrate\n",
       "12 949.4202       17.2577 6              SildenafilCitrate\n",
       "51 971.4027       17.2848 6              SildenafilCitrate"
      ]
     },
     "metadata": {},
     "output_type": "display_data"
    }
   ],
   "source": [
    "subset(GNPS.features, LibraryID == 'SildenafilCitrate')[, c('precursor.mass', 'RTMean', 'componentindex', 'LibraryID')]"
   ]
  },
  {
   "cell_type": "code",
   "execution_count": 5,
   "metadata": {
    "scrolled": true
   },
   "outputs": [
    {
     "data": {
      "text/html": [
       "46"
      ],
      "text/latex": [
       "46"
      ],
      "text/markdown": [
       "46"
      ],
      "text/plain": [
       "[1] 46"
      ]
     },
     "metadata": {},
     "output_type": "display_data"
    }
   ],
   "source": [
    "Selected.features <- subset(My.features, component.index == 1) #Check the spectral node table and figure out the component index of target molecular family\n",
    "Selected.features <- subset(Selected.features, select= -c(component.index))\n",
    "nrow(Selected.features)"
   ]
  },
  {
   "cell_type": "code",
   "execution_count": 6,
   "metadata": {},
   "outputs": [],
   "source": [
    "write.table(Selected.features,\"Sildenafil_species_filteredTable.tsv\",sep=\"\\t\",row.names = T,col.names = NA, quote = F)"
   ]
  },
  {
   "cell_type": "code",
   "execution_count": 7,
   "metadata": {},
   "outputs": [
    {
     "data": {
      "image/png": "[encoded data removed]",
      "text/plain": [
       "Plot with title \"Cluster Dendrogram\""
      ]
     },
     "metadata": {},
     "output_type": "display_data"
    }
   ],
   "source": [
    "total.D <- vegdist(t(Selected.features), \"bray\")\n",
    "total.m <- hclust(total.D, method = 'average')\n",
    "plot(total.m, hang = -1)\n",
    "write.table(as.matrix(total.D),\"Bray_distance_sildenafil_species.tsv\",sep=\"\\t\",row.names = T,col.names = NA, quote = F)"
   ]
  },
  {
   "cell_type": "code",
   "execution_count": 8,
   "metadata": {},
   "outputs": [],
   "source": [
    "## Import GNPS data - the kinetic dataset\n",
    "My.features <- read.table(\"210223_timedepen_quant.csv\", sep = \",\", row.names = 1, header=T, comment.char=\"\")\n",
    "GNPS.features <- read.csv(\"8bc94f065a344984bbff96d970f6939c.tsv\", sep = '\\t', header=T, stringsAsFactors = F) #Retreived from clusterinfor_summary folder of the GNPS result file\n",
    "Meta.Inf <- read.table(\"Sildenafil_metabolism_metadata_batch.txt\", sep = \"\\t\", header=T)\n",
    "My.features <- subset(My.features, select= -c(row.m.z, row.retention.time,X))\n",
    "colnames(My.features) <- str_replace_all(colnames(My.features), '.Peak.area','')"
   ]
  },
  {
   "cell_type": "code",
   "execution_count": 9,
   "metadata": {},
   "outputs": [
    {
     "data": {
      "text/html": [
       "255"
      ],
      "text/latex": [
       "255"
      ],
      "text/markdown": [
       "255"
      ],
      "text/plain": [
       "[1] 255"
      ]
     },
     "metadata": {},
     "output_type": "display_data"
    }
   ],
   "source": [
    "My.features <- cbind(My.features,GNPS.features$componentindex)\n",
    "names(My.features)[names(My.features) == \"GNPS.features$componentindex\"] <- c(\"component.index\")\n",
    "nrow(My.features)"
   ]
  },
  {
   "cell_type": "code",
   "execution_count": 10,
   "metadata": {},
   "outputs": [
    {
     "data": {
      "text/html": [
       "<table>\n",
       "<thead><tr><th></th><th scope=col>precursor.mass</th><th scope=col>RTMean</th><th scope=col>componentindex</th><th scope=col>LibraryID</th></tr></thead>\n",
       "<tbody>\n",
       "\t<tr><th scope=row>1</th><td>475.2125         </td><td>17.3029          </td><td>2                </td><td>SildenafilCitrate</td></tr>\n",
       "\t<tr><th scope=row>4</th><td>949.4178         </td><td>17.3043          </td><td>5                </td><td>SildenafilCitrate</td></tr>\n",
       "\t<tr><th scope=row>36</th><td>971.3989         </td><td>17.3070          </td><td>5                </td><td>SildenafilCitrate</td></tr>\n",
       "</tbody>\n",
       "</table>\n"
      ],
      "text/latex": [
       "\\begin{tabular}{r|llll}\n",
       "  & precursor.mass & RTMean & componentindex & LibraryID\\\\\n",
       "\\hline\n",
       "\t1 & 475.2125          & 17.3029           & 2                 & SildenafilCitrate\\\\\n",
       "\t4 & 949.4178          & 17.3043           & 5                 & SildenafilCitrate\\\\\n",
       "\t36 & 971.3989          & 17.3070           & 5                 & SildenafilCitrate\\\\\n",
       "\\end{tabular}\n"
      ],
      "text/markdown": [
       "\n",
       "| <!--/--> | precursor.mass | RTMean | componentindex | LibraryID | \n",
       "|---|---|---|\n",
       "| 1 | 475.2125          | 17.3029           | 2                 | SildenafilCitrate | \n",
       "| 4 | 949.4178          | 17.3043           | 5                 | SildenafilCitrate | \n",
       "| 36 | 971.3989          | 17.3070           | 5                 | SildenafilCitrate | \n",
       "\n",
       "\n"
      ],
      "text/plain": [
       "   precursor.mass RTMean  componentindex LibraryID        \n",
       "1  475.2125       17.3029 2              SildenafilCitrate\n",
       "4  949.4178       17.3043 5              SildenafilCitrate\n",
       "36 971.3989       17.3070 5              SildenafilCitrate"
      ]
     },
     "metadata": {},
     "output_type": "display_data"
    }
   ],
   "source": [
    "subset(GNPS.features, LibraryID == 'SildenafilCitrate')[, c('precursor.mass', 'RTMean', 'componentindex', 'LibraryID')]"
   ]
  },
  {
   "cell_type": "code",
   "execution_count": 11,
   "metadata": {},
   "outputs": [
    {
     "data": {
      "text/html": [
       "22"
      ],
      "text/latex": [
       "22"
      ],
      "text/markdown": [
       "22"
      ],
      "text/plain": [
       "[1] 22"
      ]
     },
     "metadata": {},
     "output_type": "display_data"
    }
   ],
   "source": [
    "Selected.features <- subset(My.features, component.index == 2)\n",
    "Selected.features <- subset(Selected.features, select= -c(component.index))\n",
    "nrow(Selected.features)\n",
    "write.table(Selected.features,\"Sildenafil_kinetic_filteredTable.tsv\",sep=\"\\t\",row.names = T,col.names = NA, quote = F)"
   ]
  },
  {
   "cell_type": "code",
   "execution_count": 12,
   "metadata": {},
   "outputs": [
    {
     "data": {
      "image/png": "[encoded data removed]",
      "text/plain": [
       "Plot with title \"Cluster Dendrogram\""
      ]
     },
     "metadata": {},
     "output_type": "display_data"
    }
   ],
   "source": [
    "total.D <- vegdist(t(Selected.features), \"bray\")\n",
    "total.m <- hclust(total.D, method = 'average')\n",
    "plot(total.m, hang = -1)\n",
    "write.table(as.matrix(total.D),\"Bray_distance_sildenafil_kinetic.tsv\",sep=\"\\t\",row.names = T,col.names = NA, quote = F)"
   ]
  },
  {
   "cell_type": "code",
   "execution_count": null,
   "metadata": {},
   "outputs": [],
   "source": [
    "## Scrips below were run in Qiime2 environment for visualizing PCoA plots."
   ]
  },
  {
   "cell_type": "code",
   "execution_count": null,
   "metadata": {},
   "outputs": [],
   "source": [
    "! qiime tools import --type DistanceMatrix \\\n",
    "    --input-path Bray_distance_sildenafil_species.tsv \\\n",
    "    --output-path Bray_distance_sildenafil_species.qza"
   ]
  },
  {
   "cell_type": "code",
   "execution_count": null,
   "metadata": {},
   "outputs": [],
   "source": [
    "! qiime diversity pcoa \\\n",
    "    --i-distance-matrix Bray_distance_sildenafil_species.qza \\\n",
    "    --o-pcoa Sildenafil_species_PCoA.qza"
   ]
  },
  {
   "cell_type": "code",
   "execution_count": null,
   "metadata": {},
   "outputs": [],
   "source": [
    "! qiime emperor plot \\\n",
    "    --i-pcoa Sildenafil_species_PCoA.qza \\\n",
    "    --m-metadata-file Sildenafil_metabolism_metadata_qiime.txt \\\n",
    "    --o-visualization Sildenafil_species_PCoA.qzv"
   ]
  },
  {
   "cell_type": "code",
   "execution_count": null,
   "metadata": {},
   "outputs": [],
   "source": [
    "! qiime tools import --type DistanceMatrix \\\n",
    "    --input-path Bray_distance_sildenafil_kinetic.tsv \\\n",
    "    --output-path Bray_distance_sildenafil_kinetic.qza"
   ]
  },
  {
   "cell_type": "code",
   "execution_count": null,
   "metadata": {},
   "outputs": [],
   "source": [
    "! qiime diversity pcoa \\\n",
    "    --i-distance-matrix Bray_distance_sildenafil_kinetic.qza \\\n",
    "    --o-pcoa Sildenafil_kinetic_PCoA.qza"
   ]
  },
  {
   "cell_type": "code",
   "execution_count": null,
   "metadata": {},
   "outputs": [],
   "source": [
    "! qiime emperor plot \\\n",
    "    --i-pcoa Sildenafil_kinetic_PCoA.qza \\\n",
    "    --m-metadata-file Sildenafil_metabolism_metadata_qiime.txt \\\n",
    "    --o-visualization Sildenafil_kinetic_PCoA.qzv"
   ]
  }
 ],
 "metadata": {
  "kernelspec": {
   "display_name": "R",
   "language": "R",
   "name": "ir"
  },
  "language_info": {
   "codemirror_mode": "r",
   "file_extension": ".r",
   "mimetype": "text/x-r-source",
   "name": "R",
   "pygments_lexer": "r",
   "version": "3.4.3"
  }
 },
 "nbformat": 4,
 "nbformat_minor": 2
}
